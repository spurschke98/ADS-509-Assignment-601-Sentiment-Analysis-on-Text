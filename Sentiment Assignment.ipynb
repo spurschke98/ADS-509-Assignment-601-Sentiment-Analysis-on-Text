{
 "cells": [
  {
   "attachments": {},
   "cell_type": "markdown",
   "id": "7f79baf9",
   "metadata": {},
   "source": [
    "# ADS 509 Sentiment Assignment\n",
    "\n",
    "This notebook holds the Sentiment Assignment for Module 6 in ADS 509, Applied Text Mining. Work through this notebook, writing code and answering questions where required. \n",
    "\n",
    "In a previous assignment you put together Twitter data and lyrics data on two artists. In this assignment we apply sentiment analysis to those data sets. If, for some reason, you did not complete that previous assignment, data to use for this assignment can be found in the assignment materials section of Blackboard. \n"
   ]
  },
  {
   "attachments": {},
   "cell_type": "markdown",
   "id": "aae8e2e1",
   "metadata": {},
   "source": [
    "## General Assignment Instructions\n",
    "\n",
    "These instructions are included in every assignment, to remind you of the coding standards for the class. Feel free to delete this cell after reading it. \n",
    "\n",
    "One sign of mature code is conforming to a style guide. We recommend the [Google Python Style Guide](https://google.github.io/styleguide/pyguide.html). If you use a different style guide, please include a cell with a link. \n",
    "\n",
    "Your code should be relatively easy-to-read, sensibly commented, and clean. Writing code is a messy process, so please be sure to edit your final submission. Remove any cells that are not needed or parts of cells that contain unnecessary code. Remove inessential `import` statements and make sure that all such statements are moved into the designated cell. \n",
    "\n",
    "Make use of non-code cells for written commentary. These cells should be grammatical and clearly written. In some of these cells you will have questions to answer. The questions will be marked by a \"Q:\" and will have a corresponding \"A:\" spot for you. *Make sure to answer every question marked with a `Q:` for full credit.* \n"
   ]
  },
  {
   "cell_type": "code",
   "execution_count": 3,
   "id": "e2d096b7",
   "metadata": {},
   "outputs": [],
   "source": [
    "import os\n",
    "import re\n",
    "import emojis\n",
    "import pandas as pd\n",
    "import numpy as np\n",
    "\n",
    "from collections import Counter, defaultdict\n",
    "from string import punctuation\n",
    "\n",
    "from nltk.corpus import stopwords\n",
    "\n",
    "sw = stopwords.words(\"english\")"
   ]
  },
  {
   "cell_type": "code",
   "execution_count": 4,
   "id": "6b555ab2",
   "metadata": {},
   "outputs": [],
   "source": [
    "# Add any additional import statements you need here\n",
    "import nltk\n",
    "from nltk.probability import FreqDist\n",
    "from nltk.tokenize import word_tokenize\n",
    "import copy\n",
    "import matplotlib as plt\n",
    "from collections import Counter\n",
    "from matplotlib import pyplot as plt\n",
    "\n",
    "from string import punctuation\n",
    "import string\n"
   ]
  },
  {
   "cell_type": "code",
   "execution_count": 5,
   "id": "923b5a86",
   "metadata": {},
   "outputs": [],
   "source": [
    "# change `data_location` to the location of the folder on your machine.\n",
    "data_location = \"/Users/summerpurschke/Desktop/ADS/ADS509/Mod2\"\n",
    "\n",
    "# These subfolders should still work if you correctly stored the \n",
    "# data from the Module 1 assignment\n",
    "twitter_folder = \"/twitter/\"\n",
    "lyrics_folder = \"/lyrics\"\n",
    "\n",
    "positive_words_file = \"positive-words.txt\"\n",
    "negative_words_file = \"negative-words.txt\"\n",
    "tidy_text_file = \"tidytext_sentiments.txt\""
   ]
  },
  {
   "attachments": {},
   "cell_type": "markdown",
   "id": "9d3bf93e",
   "metadata": {},
   "source": [
    "## Data Input\n",
    "\n",
    "Now read in each of the corpora. For the lyrics data, it may be convenient to store the entire contents of the file to make it easier to inspect the titles individually, as you'll do in the last part of the assignment. In the solution, I stored the lyrics data in a dictionary with two dimensions of keys: artist and song. The value was the file contents. A Pandas data frame would work equally well. \n",
    "\n",
    "For the Twitter data, we only need the description field for this assignment. Feel free all the descriptions read it into a data structure. In the solution, I stored the descriptions as a dictionary of lists, with the key being the artist. \n",
    "\n",
    "\n"
   ]
  },
  {
   "cell_type": "code",
   "execution_count": 6,
   "id": "37d70801",
   "metadata": {},
   "outputs": [],
   "source": [
    "# Read in the lyrics data\n",
    "def create_lyrics_dictionary(folder_path):\n",
    "    lyrics_dict = {}\n",
    "\n",
    "    # Iterate over each item in the folder\n",
    "    for item_name in os.listdir(folder_path):\n",
    "        item_path = os.path.join(folder_path, item_name)\n",
    "\n",
    "        # Check if the item is a folder (artist folder)\n",
    "        if os.path.isdir(item_path):\n",
    "            artist_dict = {}\n",
    "\n",
    "            # Iterate over each file in the artist folder\n",
    "            for filename in os.listdir(item_path):\n",
    "                file_path = os.path.join(item_path, filename)\n",
    "\n",
    "                # Check if the item is a file (song file)\n",
    "                if os.path.isfile(file_path):\n",
    "                    with open(file_path, \"r\") as file:\n",
    "                        # Read the contents of the file\n",
    "                        lines = file.readlines()\n",
    "\n",
    "                        if lines:\n",
    "                            title = lines[0].strip()  # Assuming the first line contains the title\n",
    "                            lyrics = ''.join(lines[1:])  # Combine the remaining lines as the lyrics\n",
    "\n",
    "                            # Add the song lyrics to the artist's dictionary with the title as the inner key\n",
    "                            artist_dict[title] = lyrics\n",
    "\n",
    "            # Add the artist's dictionary to the main lyrics dictionary\n",
    "            lyrics_dict[item_name] = artist_dict\n",
    "\n",
    "    return lyrics_dict\n",
    "\n",
    "# Call the function with the lyrics folder path\n",
    "lyrics_dictionary = create_lyrics_dictionary(data_location + lyrics_folder)"
   ]
  },
  {
   "cell_type": "code",
   "execution_count": 7,
   "id": "debcac5a",
   "metadata": {},
   "outputs": [],
   "source": [
    "# Read in the twitter data\n",
    "\n",
    "twitter_files = os.listdir(data_location + twitter_folder)\n",
    "desc_files = [f for f in twitter_files if \"followers_data\" in f]\n",
    "twitter_data = defaultdict(list)\n",
    "for f in desc_files :\n",
    "    artist = f.split(\"_\")[0]\n",
    "        \n",
    "    with open(data_location + twitter_folder + f,'r', encoding='utf-8') as infile :\n",
    "        next(infile)\n",
    "        for idx, line in enumerate(infile.readlines()) :\n",
    "            line = line.strip().split(\"\\t\")\n",
    "            if len(line) == 7 :\n",
    "                twitter_data[artist].append(line[6])\n",
    "\n",
    "twitter_data = dict(twitter_data)"
   ]
  },
  {
   "cell_type": "code",
   "execution_count": null,
   "id": "af9e7a4b",
   "metadata": {},
   "outputs": [],
   "source": [
    "# Read in the positive and negative words and the\n",
    "# tidytext sentiment. Store these so that the positive\n",
    "# words are associated with a score of +1 and negative words\n",
    "# are associated with a score of -1. You can use a dataframe or a \n",
    "# dictionary for this."
   ]
  },
  {
   "cell_type": "code",
   "execution_count": 8,
   "id": "8e171f41",
   "metadata": {},
   "outputs": [],
   "source": [
    "# Read in positive words\n",
    "positive_words = pd.read_csv(\"positive-words.txt\", header=None, comment=\";\", encoding='latin-1')\n",
    "positive_words.columns = [\"word\"]\n",
    "positive_words[\"sentiment\"] = 1\n",
    "\n",
    "# Read in negative words\n",
    "negative_words = pd.read_csv(\"negative-words.txt\", header=None, comment=\";\", encoding='latin-1')\n",
    "negative_words.columns = [\"word\"]\n",
    "negative_words[\"sentiment\"] = -1\n",
    "\n",
    "# Read in tidytext sentiment\n",
    "tidytext_sentiment = pd.read_csv(\"tidytext_sentiments.txt\", sep=\"\\t\")\n",
    "tidytext_sentiment = tidytext_sentiment.replace('negative', -1)\n",
    "tidytext_sentiment = tidytext_sentiment.replace('positive', 1)\n",
    "\n",
    "# # Combine positive, negative, and tidytext sentiment into a single dataframe or dictionary\n",
    "sentiment_scores = pd.concat([positive_words, negative_words, tidytext_sentiment])\n",
    "sentiment_scores.reset_index(drop=True, inplace=True)\n",
    "\n",
    "# Drop duplicate values \n",
    "sentiment_scores = sentiment_scores.drop(columns = 'lexicon').drop_duplicates()"
   ]
  },
  {
   "attachments": {},
   "cell_type": "markdown",
   "id": "6a5f3b12",
   "metadata": {},
   "source": [
    "## Sentiment Analysis on Songs\n",
    "\n",
    "In this section, score the sentiment for all the songs for both artists in your data set. Score the sentiment by manually calculating the sentiment using the combined lexicons provided in this repository. \n",
    "\n",
    "After you have calculated these sentiments, answer the questions at the end of this section.\n"
   ]
  },
  {
   "attachments": {},
   "cell_type": "markdown",
   "id": "8420e608",
   "metadata": {},
   "source": [
    "Clean the lyrics data "
   ]
  },
  {
   "cell_type": "code",
   "execution_count": 9,
   "id": "664f8d8f",
   "metadata": {},
   "outputs": [],
   "source": [
    "punctuation = set(punctuation) # speeds up comparison\n",
    "\n",
    "# Define function for removing punctuation from dictionary \n",
    "def clean_text(text):\n",
    "    cleaned_text = text.translate(str.maketrans(\"\", \"\", string.punctuation))\n",
    "    return cleaned_text\n",
    "\n",
    "# Initiate a new dictionary that is empty - will add cleaned data as it's processed \n",
    "lyrics_dictionary_cleaned = {}\n",
    "\n",
    "# Fold to lowercase and populate lyrics_dictionary_cleaned\n",
    "for artist, songs in lyrics_dictionary.items():\n",
    "    cleaned_songs = {}\n",
    "    for song, lyrics in songs.items():\n",
    "        cleaned_lyrics = lyrics.lower()\n",
    "        cleaned_songs[song] = cleaned_lyrics\n",
    "    lyrics_dictionary_cleaned[artist] = cleaned_songs\n",
    "\n",
    "# Remove stopwords directly from lyrics_dictionary_cleaned\n",
    "for artist, songs in lyrics_dictionary_cleaned.items():\n",
    "    for song, lyrics in songs.items():\n",
    "        # Split the lyrics into individual words\n",
    "        words = lyrics.split()\n",
    "        # Remove stopwords from the list of words\n",
    "        cleaned_words = [word for word in words if word.lower() not in sw]\n",
    "        # Join the cleaned words back into a single string\n",
    "        cleaned_lyrics = \" \".join(cleaned_words)\n",
    "        # Update the lyrics in the lyrics_dictionary_cleaned\n",
    "        lyrics_dictionary_cleaned[artist][song] = cleaned_lyrics\n",
    "\n",
    "# Remove punctuation directly from lyrics_dictionary_cleaned\n",
    "for artist, songs in lyrics_dictionary_cleaned.items():\n",
    "    cleaned_songs = {}\n",
    "    for song, lyrics in songs.items():\n",
    "        # Remove punctuation marks\n",
    "        cleaned_lyrics = lyrics.translate(str.maketrans(\"\", \"\", string.punctuation))\n",
    "        cleaned_songs[song] = cleaned_lyrics\n",
    "    lyrics_dictionary_cleaned[artist] = cleaned_songs\n",
    "\n",
    "# split at whitespace \n",
    "for artist, songs in lyrics_dictionary_cleaned.items():\n",
    "    for song, lyrics in songs.items():\n",
    "        split_lyrics = lyrics.split()\n",
    "        lyrics_dictionary_cleaned[artist][song] = split_lyrics\n"
   ]
  },
  {
   "attachments": {},
   "cell_type": "markdown",
   "id": "5c1219eb",
   "metadata": {},
   "source": [
    "Calculate the sentiment scores for each song"
   ]
  },
  {
   "cell_type": "code",
   "execution_count": 10,
   "id": "1b06cc7e",
   "metadata": {},
   "outputs": [],
   "source": [
    "# Intialize an empty dictionary \n",
    "sentiment_dict = {}\n",
    "\n",
    "# Iterate over the artists in the lyrics_dictionary_cleaned\n",
    "for artist, songs in lyrics_dictionary_cleaned.items():\n",
    "    # Create a nested dictionary for the artist if it doesn't exist in the result dictionary\n",
    "    if artist not in sentiment_dict:\n",
    "        sentiment_dict[artist] = {}\n",
    "    \n",
    "    # Iterate over the songs for the artist\n",
    "    for song, tokens in songs.items():\n",
    "        # Initialize the sum for the current song - will add from here \n",
    "        song_sum = 0\n",
    "        \n",
    "        # Iterate over the tokens in the song\n",
    "        for token in tokens:\n",
    "            # Check if the token exists in the sentiment_scores dataframe\n",
    "            if token in sentiment_scores['word'].values:\n",
    "                # Get the sentiment value associated with the token\n",
    "                sentiment_value = sentiment_scores[sentiment_scores['word'] == token]['sentiment'].values[0]\n",
    "                # Add the sentiment value to the song_sum\n",
    "                song_sum += sentiment_value\n",
    "        \n",
    "        # Assign the song_sum to the result dictionary\n",
    "        sentiment_dict[artist][song] = song_sum"
   ]
  },
  {
   "attachments": {},
   "cell_type": "markdown",
   "id": "ad5cf116",
   "metadata": {},
   "source": [
    "Create a dataframe of values for each song "
   ]
  },
  {
   "cell_type": "code",
   "execution_count": 11,
   "id": "519bdb1c",
   "metadata": {},
   "outputs": [],
   "source": [
    "# Create an empty list to store the flattened data\n",
    "flattened_data = []\n",
    "\n",
    "# Iterate over the outer keys (artists) in the result dictionary\n",
    "for artist, songs in sentiment_dict.items():\n",
    "    # Iterate over the inner keys (songs) in each artist's songs\n",
    "    for song, value in songs.items():\n",
    "        # Append the artist, song, and value as a tuple to the flattened_data list\n",
    "        flattened_data.append((artist, song, value))\n",
    "\n",
    "# Create a dataframe from the flattened_data list\n",
    "sentiment_df = pd.DataFrame.from_records(flattened_data, columns=['Artist', 'Song', 'Value'])"
   ]
  },
  {
   "attachments": {},
   "cell_type": "markdown",
   "id": "6b72f42c",
   "metadata": {},
   "source": [
    "### Questions\n",
    "Q: Overall, which artist has the higher average sentiment per song? \n",
    "\n",
    "A: Robyn has a higher average sentiment per song at 8.96 compared to 5.57. \n",
    "\n",
    "---"
   ]
  },
  {
   "cell_type": "code",
   "execution_count": null,
   "id": "665c772d",
   "metadata": {},
   "outputs": [
    {
     "name": "stdout",
     "output_type": "stream",
     "text": [
      "Cher songs have an average sentient of 5.57\n",
      "Robyn songs have an average sentient of 8.96\n"
     ]
    }
   ],
   "source": [
    "robyn_avg_sentiment = sentiment_df[sentiment_df['Artist'] == 'robyn']['Value'].mean()\n",
    "cher_avg_sentiment = sentiment_df[sentiment_df['Artist'] == 'cher']['Value'].mean()\n",
    "\n",
    "print(f'Cher songs have an average sentient of {round(cher_avg_sentiment,2)}')\n",
    "print(f'Robyn songs have an average sentient of {round(robyn_avg_sentiment,2)}')"
   ]
  },
  {
   "attachments": {},
   "cell_type": "markdown",
   "id": "7c9e5ca3",
   "metadata": {},
   "source": [
    "Q: For your first artist, what are the three songs that have the highest and lowest sentiments? Print the lyrics of those songs to the screen. What do you think is driving the sentiment score? \n",
    "\n",
    "A: \n",
    "\n",
    "Lowest Sentiments (in order):\n",
    "\n",
    "- Don't Fucking Tell me What To Do: This song is says killing in just about every line, which is probably driving the score.\n",
    "- Criminal Intent: This song is about partaking illegal activities (intentionally). \n",
    "- Love Kills: This song isn't as negative as the others in my opinion when reading through it, it's a song about the hardships of love which a lot of other artists have written about. However from a sentiment point of view, it has the word 'kill' often, though it is preceded by 'love' most of the times that I can see which likely balances out. It does however use words like protect, conceal, wreck, and cold which likely contribute to the negative score. \n",
    "\n"
   ]
  },
  {
   "cell_type": "code",
   "execution_count": null,
   "id": "4dd3df43",
   "metadata": {},
   "outputs": [],
   "source": [
    "# Create a list of the three lowest sentiment songs for robyn \n",
    "robyn_lowest_3  = (sentiment_df[sentiment_df['Artist'] == 'robyn']).sort_values(by = 'Value').head(3)['Song'].to_list()\n",
    "\n",
    "# Change the value of i from 0 to 2 to print the lyrics of each of the three songs with the lowest sentiment value \n",
    "i = 2\n",
    "print(f'\\033[1m{robyn_lowest_3[i]}\\033[0m')  # Print the title in bold\n",
    "print(lyrics_dictionary['robyn'][robyn_lowest_3[i]])"
   ]
  },
  {
   "attachments": {},
   "cell_type": "markdown",
   "id": "22caf57f",
   "metadata": {},
   "source": [
    "Highest Sentiments (in order):\n",
    "- Love is Free: This song seems to have a lot of 'love' and 'free' tokens repeating, which are both positive words. Also, 'baby' is a positive word that is recurring \n",
    "- We Dance to the Beat: Most of the lyrics in this song are just the title, of which only 'dance' has a value associated with it which is positive. \n",
    "- Between the Lines: This song at first glance doesn't seem as positive as the last two, but the word baby occurs often which as we already know is positive. "
   ]
  },
  {
   "cell_type": "code",
   "execution_count": null,
   "id": "872190e3",
   "metadata": {},
   "outputs": [],
   "source": [
    "# Create a list of the three highest sentiment songs for robyn \n",
    "robyn_highest_3  = (sentiment_df[sentiment_df['Artist'] == 'robyn']).sort_values(by = 'Value', ascending= False).head(3)['Song'].to_list()\n",
    "\n",
    "i = 2\n",
    "print(f'\\033[1m{robyn_highest_3[i]}\\033[0m')  # Print the title in bold\n",
    "print(lyrics_dictionary['robyn'][robyn_highest_3[i]])"
   ]
  },
  {
   "attachments": {},
   "cell_type": "markdown",
   "id": "9295b78e",
   "metadata": {},
   "source": [
    "---"
   ]
  },
  {
   "attachments": {},
   "cell_type": "markdown",
   "id": "1f8334f4",
   "metadata": {},
   "source": [
    "Q: For your second artist, what are the three songs that have the highest and lowest sentiments? Print the lyrics of those songs to the screen. What do you think is driving the sentiment score? \n",
    "\n",
    "A: \n",
    "\n",
    "Lowest Sentiments (in order):\n",
    "- Bang-Bang: This song has songs like 'hit' 'down' and 'ground' in the chorus (which repeats) which are all negative. \n",
    "- Bang Bang (My Baby Shot Me Down): This song is very similar to the previous with slight changes, but is likely so negative for the same reasons. \n",
    "- Outrageous: This song repeats the word 'rage' often, and uses words like kill and lies. \n",
    "\n"
   ]
  },
  {
   "cell_type": "code",
   "execution_count": null,
   "id": "bd36cf31",
   "metadata": {},
   "outputs": [
    {
     "name": "stdout",
     "output_type": "stream",
     "text": [
      "\u001b[1m\"Outrageous\"\u001b[0m\n",
      "\n",
      "\n",
      "\n",
      "Outrageous, outrageous\n",
      "(They say) I'm outrageous\n",
      "It's the rage\n",
      "\n",
      "I'm gonna wear what I will and spend some\n",
      "And I will be dress to kill don'tcha know\n",
      "And when the lights come up\n",
      "I'm ready I'm ready\n",
      "To put on a show with class\n",
      "And if I clash it's cause I want to\n",
      "What a show and I want everyone to know\n",
      "They're gonna fly up, get an eyeful\n",
      "Everything that's craved from me\n",
      "I'm gonna be, I'm gonna be outrageous\n",
      "\n",
      "Outrageous\n",
      "(They say) I'm outrageous\n",
      "It's the rage it's the rage\n",
      "\n",
      "With my long black hair hanging way down to my\n",
      "Ask me no questions and I'll tell you no lies\n",
      "Don't tell me what to do don't tell me what to be\n",
      "See I don't trust anybody else's traits about make-up and me\n",
      "\n",
      "Well in my show I let everything go\n",
      "Is what you want is whatcha wanna see from me\n",
      "But when the curtain comes down\n",
      "And you're on your way back home\n",
      "I change into my jeans that are split at the seam\n",
      "I grab my funky black jacket and make quite a racket\n",
      "You drive like you're an outlaw\n",
      "Cause everything that's craved from me\n",
      "I'm gonna be, I'm gonna be outrageous\n",
      "\n",
      "So outrageous\n",
      "I'm outrageous honey yes a rage\n",
      "It's the rage\n",
      "Outrageous, outrageous\n",
      "I'm outrageous\n",
      "It's the rage it's a rage\n",
      "Outrageous, outrageous\n",
      "They say I'm outrageous\n",
      "\n"
     ]
    }
   ],
   "source": [
    "# Create a list of the three lowest sentiment songs for robyn \n",
    "cher_lowest_3  = (sentiment_df[sentiment_df['Artist'] == 'cher']).sort_values(by = 'Value').head(3)['Song'].to_list()\n",
    "\n",
    "# Change the value of i from 0 to 2 to print the lyrics of each of the three songs with the lowest sentiment value \n",
    "i = 2\n",
    "print(f'\\033[1m{cher_lowest_3[i]}\\033[0m')  # Print the title in bold\n",
    "print(lyrics_dictionary['cher'][cher_lowest_3[i]])"
   ]
  },
  {
   "attachments": {},
   "cell_type": "markdown",
   "id": "c1a02464",
   "metadata": {},
   "source": [
    "Highest Sentiments (in order):\n",
    "- Love and Understanding: Just as the title suggests, this is an uplifting song about love and understanding and wanting more of both of them in the word - pretty positive if you ask me! \n",
    "- Perfection: This song right away doesn't look as positive to me as the previous, but it does have many positive words such as perfection, baby, best, and winner. \n",
    "- I Found You Love: Once again, cher over uses the words baby and love, leading to a positive sentiment of this song. This in my opinion is more positive than Love and Understanding and Perfection, based on how the sentences are constructed. However this sentiment calculation only considers the presence of the words not the combination of them. \n"
   ]
  },
  {
   "cell_type": "code",
   "execution_count": null,
   "id": "5256be2b",
   "metadata": {},
   "outputs": [
    {
     "name": "stdout",
     "output_type": "stream",
     "text": [
      "\u001b[1m\"I Found You Love\"\u001b[0m\n",
      "\n",
      "\n",
      "\n",
      "Well I was looking for a new love, a different kind of true love\n",
      "Who's gonna treat me right, all day and night\n",
      "Hey baby I've been looking too\n",
      "And I have found there's\n",
      "No other love from me but you\n",
      "Well I was looking for a new love\n",
      "A different kind of true love\n",
      "Who's gonna treat me right\n",
      "Day and night\n",
      "Well I found what I was after\n",
      "Now my life is filled with laughter\n",
      "I found you love\n",
      "I was lost with no direction\n",
      "Then my life was one big question\n",
      "I was down and out\n",
      "Filled with doubt\n",
      "Found what I was after\n",
      "Now my life is filled with laughter\n",
      "I found you love\n",
      "I found you love\n",
      "I found a new love\n",
      "He's wonderful and true\n",
      "He's gonna spent his money\n",
      "He's gonna call me honey\n",
      "I gonna tease her\n",
      "Oh Lord, I gonna squeeze her\n",
      "Gonna love her plenty\n",
      "She's gonna make me manly\n",
      "We're gonna hold love while we can\n",
      "I've been looking for a new love\n",
      "A different kind of true love\n",
      "Who's gonna treat me right\n",
      "Every day and every night\n",
      "Now I found what I was after\n",
      "Now my life is filled with laughter\n",
      "I found you love\n",
      "I found you love\n",
      "I found a new love\n",
      "He's wonderful and true\n",
      "He's gonna spent his money\n",
      "He's gonna call me honey\n",
      "I gonna please her\n",
      "Oh Lord, I gonna squeeze her\n",
      "Gonna love me madly\n",
      "I'm gonna love her gladly\n",
      "We're gonna hold love while we can\n",
      "We're gonna hold love while we can\n",
      "\n"
     ]
    }
   ],
   "source": [
    "# Create a list of the three highest sentiment songs for robyn \n",
    "cher_highest_3  = (sentiment_df[sentiment_df['Artist'] == 'cher']).sort_values(by = 'Value', ascending= False).head(3)['Song'].to_list()\n",
    "\n",
    "i = 2\n",
    "print(f'\\033[1m{cher_highest_3[i]}\\033[0m')  # Print the title in bold\n",
    "print(lyrics_dictionary['cher'][cher_highest_3[i]])"
   ]
  },
  {
   "attachments": {},
   "cell_type": "markdown",
   "id": "213ef6b2",
   "metadata": {},
   "source": [
    "---"
   ]
  },
  {
   "attachments": {},
   "cell_type": "markdown",
   "id": "c6cf9241",
   "metadata": {},
   "source": [
    "Q: Plot the distributions of the sentiment scores for both artists. You can use `seaborn` to plot densities or plot histograms in matplotlib."
   ]
  },
  {
   "cell_type": "code",
   "execution_count": 12,
   "id": "31d53f02",
   "metadata": {},
   "outputs": [
    {
     "data": {
      "image/png": "[encoded data removed]",
      "text/plain": [
       "<Figure size 864x432 with 1 Axes>"
      ]
     },
     "metadata": {
      "needs_background": "light"
     },
     "output_type": "display_data"
    }
   ],
   "source": [
    "# Set up the figure and axis\n",
    "fig, ax = plt.subplots(figsize = (12,6))\n",
    "\n",
    "# Plot histograms using matplotlib\n",
    "ax.hist(sentiment_df.loc[sentiment_df['Artist'] == 'robyn', 'Value'].values, alpha=0.5, label='robyn')\n",
    "ax.hist(sentiment_df.loc[sentiment_df['Artist'] == 'cher', 'Value'].values, alpha=0.5, label='cher')\n",
    "\n",
    "# Set the labels and title\n",
    "ax.set_xlabel('Sentiment Score')\n",
    "ax.set_ylabel('Frequency')\n",
    "ax.set_title('Distribution of Sentiment Scores')\n",
    "\n",
    "# Show the legend\n",
    "ax.legend()\n",
    "\n",
    "# Display the plot\n",
    "plt.show()"
   ]
  },
  {
   "attachments": {},
   "cell_type": "markdown",
   "id": "b3fe644d",
   "metadata": {},
   "source": [
    "## Sentiment Analysis on Twitter Descriptions\n",
    "\n",
    "In this section, define two sets of emojis you designate as positive and negative. Make sure to have at least 10 emojis per set. You can learn about the most popular emojis on Twitter at [the emojitracker](https://emojitracker.com/). \n",
    "\n",
    "Associate your positive emojis with a score of +1, negative with -1. Score the average sentiment of your two artists based on the Twitter descriptions of their followers. The average sentiment can just be the total score divided by number of followers. You do not need to calculate sentiment on non-emoji content for this section."
   ]
  },
  {
   "cell_type": "code",
   "execution_count": 13,
   "id": "86485839",
   "metadata": {},
   "outputs": [],
   "source": [
    "positive_emojis = [\n",
    "    \"😄\", \"😊\", \"🙂\", \"🥰\", \"🤗\", \"🌞\", \"🌟\", \"💖\", \"🎉\", \"🎈\",\n",
    "    \"🌺\", \"🌈\", \"🍀\", \"🥳\", \"👏\", \"🙌\", \"🌼\", \"🥇\", \"🌻\", \"🎵\",\n",
    "    \"🎶\", \"🎁\", \"🌸\", \"💃\", \"🔥\", \"💯\", \"🍓\", \"🥂\", \"🌹\", \"💕\"\n",
    "]\n",
    "\n",
    "negative_emojis = [\n",
    "    \"😞\", \"😔\", \"😢\", \"😠\", \"😒\", \"😕\", \"😖\", \"😣\", \"😩\", \"🙁\",\n",
    "    \"😭\", \"😡\", \"😟\", \"😣\", \"😓\", \"🤔\", \"👎\", \"🤬\", \"😳\", \"😑\",\n",
    "    \"🤯\", \"🤢\", \"😴\", \"👿\", \"😤\", \"😪\", \"😫\", \"👿\", \"😾\", \"🤦\"\n",
    "]\n",
    "\n",
    "# Create a dataframe with emojis and sentiment values\n",
    "emoji_df = pd.DataFrame({\n",
    "    'emoji': positive_emojis + negative_emojis,\n",
    "    'sentiment': [1] * len(positive_emojis) + [-1] * len(negative_emojis)\n",
    "})"
   ]
  },
  {
   "attachments": {},
   "cell_type": "markdown",
   "id": "60f2c0fc",
   "metadata": {},
   "source": [
    "Create a new dictionary of only the emojis that are present for each artist in the followers dictionary "
   ]
  },
  {
   "cell_type": "code",
   "execution_count": 21,
   "id": "1a5c1d25",
   "metadata": {},
   "outputs": [],
   "source": [
    "twitter_emojis = {}\n",
    "\n",
    "# Iterate over each artist in the twitter_data dictionary\n",
    "for artist, tweets in twitter_data.items():\n",
    "    emojis = []\n",
    "\n",
    "    # Iterate over each tweet of the artist\n",
    "    for tweet in tweets:\n",
    "        # Find all emojis in the tweet\n",
    "        emoji_list = [c for c in tweet if emoji.is_emoji(c)]\n",
    "\n",
    "        # Add the found emojis to the list\n",
    "        emojis.extend(emoji_list)\n",
    "\n",
    "    # Add the list of emojis to the dictionary for the artist\n",
    "    twitter_emojis[artist] = emojis"
   ]
  },
  {
   "cell_type": "code",
   "execution_count": 14,
   "id": "0f3cea39",
   "metadata": {},
   "outputs": [],
   "source": [
    "# Initiate a new dictionary that is empty - will add cleaned data as it's processed \n",
    "twitter_data_cleaned = {}\n",
    "\n",
    "# Fold to lowercase and populate the cleaned dictionary\n",
    "for artist, tweets in twitter_data.items():\n",
    "    cleaned_tweets = {}\n",
    "    for idx, words in enumerate(tweets):\n",
    "        cleaned_words = words.lower()\n",
    "        cleaned_tweets[f'tweet{idx+1}'] = cleaned_words\n",
    "    twitter_data_cleaned[artist] = cleaned_tweets\n",
    "\n",
    "# Remove stopwords directly from twitter_data_cleaned\n",
    "for artist, tweets in twitter_data_cleaned.items():\n",
    "    for tweet, words in tweets.items():\n",
    "        # Split the words into individual tokens\n",
    "        tokens = words.split()\n",
    "        # Remove stopwords from the list of tokens\n",
    "        cleaned_tokens = [token for token in tokens if token.lower() not in sw]\n",
    "        # Join the cleaned tokens back into a single string\n",
    "        cleaned_words = \" \".join(cleaned_tokens)\n",
    "        # Update the words in the twitter_data_cleaned\n",
    "        twitter_data_cleaned[artist][tweet] = cleaned_words\n",
    "\n",
    "# Remove punctuation directly from twitter_data_cleaned\n",
    "for artist, tweets in twitter_data_cleaned.items():\n",
    "    cleaned_tweets = {}\n",
    "    for tweet, words in tweets.items():\n",
    "        cleaned_words = ''.join(character for character in words if character not in string.punctuation)\n",
    "        cleaned_tweets[tweet] = cleaned_words\n",
    "    twitter_data_cleaned[artist] = cleaned_tweets\n",
    "\n",
    "# split at whitespace \n",
    "for artist, tweets in twitter_data_cleaned.items():\n",
    "    for tweet, words in tweets.items():\n",
    "        split_words = words.split()\n",
    "        twitter_data_cleaned[artist][tweet] = split_words"
   ]
  },
  {
   "cell_type": "code",
   "execution_count": 21,
   "id": "63a9e38c",
   "metadata": {},
   "outputs": [],
   "source": [
    "# Get rid of outer keys\n",
    "for artist, tweets in twitter_data_cleaned.items():\n",
    "    word_list = []\n",
    "    for tweet, words in tweets.items():\n",
    "        word_list.extend(words)\n",
    "    twitter_data_cleaned[artist] = word_list"
   ]
  },
  {
   "attachments": {},
   "cell_type": "markdown",
   "id": "362d9c6e",
   "metadata": {},
   "source": [
    "Creating list/ dict of emojis from each "
   ]
  },
  {
   "cell_type": "code",
   "execution_count": 24,
   "id": "bb7a1f64",
   "metadata": {},
   "outputs": [],
   "source": [
    "#Create lists \n",
    "cher_tweets = twitter_data_cleaned['cher'] \n",
    "\n",
    "cher_emoji_counter = {}\n",
    "\n",
    "for item in cher_tweets:\n",
    "    emoji_list = emojis.get(item)\n",
    "    for emoji in emoji_list:\n",
    "        if emoji in cher_emoji_counter:\n",
    "            cher_emoji_counter[emoji] += 1\n",
    "        else:\n",
    "            cher_emoji_counter[emoji] = 1"
   ]
  },
  {
   "cell_type": "code",
   "execution_count": 25,
   "id": "384ee862",
   "metadata": {},
   "outputs": [],
   "source": [
    "#Create lists \n",
    "robyn_tweets = twitter_data_cleaned['robynkonichiwa']\n",
    "\n",
    "robyn_emoji_counter = {}\n",
    "\n",
    "for item in robyn_tweets:\n",
    "    emoji_list = emojis.get(item)\n",
    "    for emoji in emoji_list:\n",
    "        if emoji in robyn_emoji_counter:\n",
    "            robyn_emoji_counter[emoji] += 1\n",
    "        else:\n",
    "            robyn_emoji_counter[emoji] = 1"
   ]
  },
  {
   "cell_type": "code",
   "execution_count": 35,
   "id": "b3cc03c3",
   "metadata": {},
   "outputs": [
    {
     "name": "stdout",
     "output_type": "stream",
     "text": [
      "Average Sentiment for Cher:  0.8833180020673501\n",
      "Average Sentiment for Robyn:  0.9071688140072679\n"
     ]
    }
   ],
   "source": [
    "## Cher \n",
    "total_sentiment_sum = 0\n",
    "emoji_count = 0\n",
    "\n",
    "for emoji, count in cher_emoji_counter.items():\n",
    "    if emoji in emoji_df['emoji'].values:\n",
    "        sentiment_value = emoji_df.loc[emoji_df['emoji'] == emoji, 'sentiment'].values[0]\n",
    "        total_sentiment_sum += sentiment_value * count\n",
    "        emoji_count += count\n",
    "\n",
    "average_sentiment = total_sentiment_sum / emoji_count if emoji_count != 0 else 0\n",
    "\n",
    "print(\"Average Sentiment for Cher: \", average_sentiment)\n",
    "\n",
    "## Robyn\n",
    "total_sentiment_sum = 0\n",
    "emoji_count = 0\n",
    "\n",
    "for emoji, count in robyn_emoji_counter.items():\n",
    "    if emoji in emoji_df['emoji'].values:\n",
    "        sentiment_value = emoji_df.loc[emoji_df['emoji'] == emoji, 'sentiment'].values[0]\n",
    "        total_sentiment_sum += sentiment_value * count\n",
    "        emoji_count += count\n",
    "\n",
    "average_sentiment = total_sentiment_sum / emoji_count if emoji_count != 0 else 0\n",
    "\n",
    "print(\"Average Sentiment for Robyn: \", average_sentiment)"
   ]
  },
  {
   "attachments": {},
   "cell_type": "markdown",
   "id": "fb92eb93",
   "metadata": {},
   "source": [
    "Q: What is the average sentiment of your two artists? \n",
    "\n",
    "A: \n",
    "- Average Sentiment for Cher:  0.8833180020673501\n",
    "- Average Sentiment for Robyn:  0.9071688140072679\n",
    "---\n",
    "\n",
    "\n"
   ]
  },
  {
   "cell_type": "code",
   "execution_count": 42,
   "id": "cae3ca90",
   "metadata": {},
   "outputs": [],
   "source": [
    "cher_filtered_emojis = {emoji: count for emoji, count in cher_emoji_counter.items() if emoji in emoji_df['emoji'].values}\n",
    "\n",
    "robyn_filtered_emojis = {emoji: count for emoji, count in robyn_emoji_counter.items() if emoji in emoji_df['emoji'].values}"
   ]
  },
  {
   "cell_type": "code",
   "execution_count": 67,
   "id": "c44849c4",
   "metadata": {},
   "outputs": [],
   "source": [
    "\n",
    "# Find most popular positive and negative by associating the counts with the values and sorting\n",
    "## Cher\n",
    "cher_filtered_emojis_df= pd.DataFrame(list(cher_filtered_emojis.items()), columns=['emoji', 'count'])\n",
    "cher_emoji_values = pd.merge(cher_filtered_emojis_df, emoji_df, on = 'emoji')\n",
    "cher_emoji_values['value'] = cher_emoji_values['count'] * cher_emoji_values['sentiment']\n",
    "\n",
    "cher_negative_emoji = cher_emoji_values.sort_values(by = 'value').head(1)['emoji'].values\n",
    "cher_positive_emoji = cher_emoji_values.sort_values(by = 'value', ascending= False).head(1)['emoji'].values\n",
    "\n",
    "## Robyn \n",
    "robyn_filtered_emojis_df= pd.DataFrame(list(robyn_filtered_emojis.items()), columns=['emoji', 'count'])\n",
    "robyn_emoji_values = pd.merge(robyn_filtered_emojis_df, emoji_df, on = 'emoji')\n",
    "robyn_emoji_values['value'] = robyn_emoji_values['count'] * robyn_emoji_values['sentiment']\n",
    "\n",
    "robyn_negative_emoji = robyn_emoji_values.sort_values(by = 'value').head(1)['emoji'].values\n",
    "robyn_positive_emoji = robyn_emoji_values.sort_values(by = 'value', ascending= False).head(1)['emoji'].values"
   ]
  },
  {
   "cell_type": "code",
   "execution_count": 73,
   "id": "e803c4f5",
   "metadata": {},
   "outputs": [
    {
     "name": "stdout",
     "output_type": "stream",
     "text": [
      "Chers most popular positive emoji: ['🌈']\n",
      "Chers most popular negative emoji: ['🤔']\n",
      "Robyns most popular positive emoji: ['🌈']\n",
      "Robyns most popular negative emoji: ['🤔']\n"
     ]
    }
   ],
   "source": [
    "print('Chers most popular positive emoji:', cher_positive_emoji)\n",
    "print('Chers most popular negative emoji:', cher_negative_emoji)\n",
    "\n",
    "print('Robyns most popular positive emoji:', robyn_positive_emoji)\n",
    "print('Robyns most popular negative emoji:', robyn_negative_emoji)"
   ]
  },
  {
   "attachments": {},
   "cell_type": "markdown",
   "id": "a81ac8c8",
   "metadata": {},
   "source": [
    "\n",
    "Q: Which positive emoji is the most popular for each artist? Which negative emoji? \n",
    "\n",
    "A: \n",
    "- Chers most popular positive emoji: ['🌈']\n",
    "- Chers most popular negative emoji: ['🤔']\n",
    "- Robyns most popular positive emoji: ['🌈']\n",
    "- Robyns most popular negative emoji: ['🤔']"
   ]
  }
 ],
 "metadata": {
  "kernelspec": {
   "display_name": "Python 3 (ipykernel)",
   "language": "python",
   "name": "python3"
  },
  "language_info": {
   "codemirror_mode": {
    "name": "ipython",
    "version": 3
   },
   "file_extension": ".py",
   "mimetype": "text/x-python",
   "name": "python",
   "nbconvert_exporter": "python",
   "pygments_lexer": "ipython3",
   "version": "3.8.8"
  }
 },
 "nbformat": 4,
 "nbformat_minor": 5
}
